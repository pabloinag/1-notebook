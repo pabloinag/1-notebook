{
 "cells": [
  {
   "cell_type": "markdown",
   "id": "0da2f58c-620d-4aab-8c28-508b9c523a5a",
   "metadata": {},
   "source": [
    "<h1 header 1>Data Science Tools and Ecosystem</h1>"
   ]
  },
  {
   "cell_type": "markdown",
   "id": "69d43a56-84d5-4d72-8d2b-07e455d8e2d4",
   "metadata": {},
   "source": [
    "In this notebook, Data Science Tools and Ecosystem are summarized."
   ]
  },
  {
   "cell_type": "markdown",
   "id": "f2b9acdd-6f5e-43ee-bb10-a7ca17cbaef9",
   "metadata": {},
   "source": [
    "<ol>\n",
    "  <p>Some of the popular languages that Data Scientists use are:</p>\n",
    "  <li>Python  1.</li>\n",
    "  <p>Ptython es un leguaje de prograación altamente utilizado en las aplicaciones web , software y ciencia de datos.</p>\n",
    "  <li>SQL     2.</li>\n",
    "    <p>  SQL es un lenguaje de computación para trabajar con conjuntos de datos y las relaciones entre ellos.</p>\n",
    "    <li> R   3.</li>\n",
    "    <p>R es un lenguaje popular para la ciencia y el análisis de datos. Permite a los usuarios realizar una amplia variedad de tareas de análisis de datos y cálculo estadístico.</p>\n",
    "</ol>"
   ]
  },
  {
   "cell_type": "markdown",
   "id": "7af1917d-5562-453c-b530-bfae3f040a6d",
   "metadata": {},
   "source": [
    "<ol>\n",
    "  <p>Some of the commonly used libraries used by Data Scientists include:</p>\n",
    "  <li>Numpy 1.</li>\n",
    "  <li>Panda 2.</li>\n",
    "  <li>Scikit-Learn 3.</li>\n",
    "</ol>"
   ]
  },
  {
   "cell_type": "markdown",
   "id": "99df7305-9f62-4a26-9f18-4b51b2776393",
   "metadata": {},
   "source": [
    "| Data Science Tools |\n",
    "|--------------------|\n",
    "|     Spyder         |\n",
    "|     Jupyter        |\n",
    "|  Visual Studio Code|"
   ]
  },
  {
   "cell_type": "markdown",
   "id": "88b51ca2-f559-48f7-a8d6-8819e3e7a2c1",
   "metadata": {},
   "source": [
    "<h3 header 3> Below are a few examples of evaluating arithmetic expressions in Python</h3>"
   ]
  },
  {
   "cell_type": "code",
   "execution_count": 12,
   "id": "357613c7-b1da-4ec0-839e-f536bb38f899",
   "metadata": {},
   "outputs": [
    {
     "data": {
      "text/plain": [
       "17"
      ]
     },
     "execution_count": 12,
     "metadata": {},
     "output_type": "execute_result"
    }
   ],
   "source": [
    "## This a simple arithmetic expression to mutiply then add integers\n",
    "(3*4)+5"
   ]
  },
  {
   "cell_type": "code",
   "execution_count": 13,
   "id": "77911b8b-885d-472f-99a7-3ce6972901af",
   "metadata": {},
   "outputs": [
    {
     "data": {
      "text/plain": [
       "3.3333333333333335"
      ]
     },
     "execution_count": 13,
     "metadata": {},
     "output_type": "execute_result"
    }
   ],
   "source": [
    "## This will convert 200 minutes to hours by diving by 60\n",
    "m = 200\n",
    "h = 60\n",
    "m/h"
   ]
  },
  {
   "cell_type": "markdown",
   "id": "cdf083f8-0ac3-4b2d-adab-23dca18c05e8",
   "metadata": {},
   "source": [
    "<h3>Objectives:</h3>\n",
    "<ul>List popular languages for Data Science</ul>\n",
    "<ul>Below are a few examples of evaluating arithmetic expressions in Python</ul>\n",
    "<ul>Simple arithmetic expression to mutiply then add integers</ul>\n",
    "<ul> This will convert 200 minutes to hours by diving by 60</ul>"
   ]
  },
  {
   "cell_type": "markdown",
   "id": "a0a4ad9c-52ba-4847-a515-bfafac4b3377",
   "metadata": {},
   "source": [
    "<h2 style heading>Author</h2>\n",
    "Pablo Aguirre"
   ]
  },
  {
   "cell_type": "code",
   "execution_count": null,
   "id": "fa1eb314-53c9-4817-be5f-84737d8614a3",
   "metadata": {},
   "outputs": [],
   "source": []
  }
 ],
 "metadata": {
  "kernelspec": {
   "display_name": "Python 3 (ipykernel)",
   "language": "python",
   "name": "python3"
  },
  "language_info": {
   "codemirror_mode": {
    "name": "ipython",
    "version": 3
   },
   "file_extension": ".py",
   "mimetype": "text/x-python",
   "name": "python",
   "nbconvert_exporter": "python",
   "pygments_lexer": "ipython3",
   "version": "3.12.7"
  }
 },
 "nbformat": 4,
 "nbformat_minor": 5
}
